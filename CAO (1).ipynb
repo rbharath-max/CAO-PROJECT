{
  "nbformat": 4,
  "nbformat_minor": 0,
  "metadata": {
    "colab": {
      "provenance": [],
      "gpuType": "T4",
      "toc_visible": true
    },
    "kernelspec": {
      "name": "python3",
      "display_name": "Python 3"
    },
    "language_info": {
      "name": "python"
    },
    "accelerator": "GPU"
  },
  "cells": [
    {
      "cell_type": "code",
      "execution_count": null,
      "metadata": {
        "colab": {
          "base_uri": "https://localhost:8080/"
        },
        "id": "z7XIL-O-WELt",
        "outputId": "f14f0a1b-5c36-4cab-983a-093bd7d0a8cd"
      },
      "outputs": [
        {
          "output_type": "stream",
          "name": "stdout",
          "text": [
            "Tue Nov 28 06:52:58 2023       \n",
            "+-----------------------------------------------------------------------------+\n",
            "| NVIDIA-SMI 525.105.17   Driver Version: 525.105.17   CUDA Version: 12.0     |\n",
            "|-------------------------------+----------------------+----------------------+\n",
            "| GPU  Name        Persistence-M| Bus-Id        Disp.A | Volatile Uncorr. ECC |\n",
            "| Fan  Temp  Perf  Pwr:Usage/Cap|         Memory-Usage | GPU-Util  Compute M. |\n",
            "|                               |                      |               MIG M. |\n",
            "|===============================+======================+======================|\n",
            "|   0  Tesla T4            Off  | 00000000:00:04.0 Off |                    0 |\n",
            "| N/A   55C    P8    10W /  70W |      0MiB / 15360MiB |      0%      Default |\n",
            "|                               |                      |                  N/A |\n",
            "+-------------------------------+----------------------+----------------------+\n",
            "                                                                               \n",
            "+-----------------------------------------------------------------------------+\n",
            "| Processes:                                                                  |\n",
            "|  GPU   GI   CI        PID   Type   Process name                  GPU Memory |\n",
            "|        ID   ID                                                   Usage      |\n",
            "|=============================================================================|\n",
            "|  No running processes found                                                 |\n",
            "+-----------------------------------------------------------------------------+\n"
          ]
        }
      ],
      "source": [
        "!nvidia-smi"
      ]
    },
    {
      "cell_type": "code",
      "source": [
        "import time\n",
        "import tensorflow as tf\n",
        "from tensorflow.keras.models import Sequential\n",
        "from tensorflow.keras.layers import Dense, Conv2D, MaxPooling2D, Flatten, Dropout\n",
        "from tensorflow.keras.optimizers import Adam\n",
        "from sklearn.preprocessing import LabelBinarizer\n",
        "from sklearn.model_selection import train_test_split\n",
        "import pandas as pd\n",
        "import numpy as np"
      ],
      "metadata": {
        "id": "iT07AJBayzy2"
      },
      "execution_count": null,
      "outputs": []
    },
    {
      "cell_type": "code",
      "source": [
        "import matplotlib.pyplot as plt\n",
        "import seaborn as sns"
      ],
      "metadata": {
        "id": "bjxY0sbCyz1a"
      },
      "execution_count": null,
      "outputs": []
    },
    {
      "cell_type": "code",
      "source": [
        "train = pd.read_csv('/content/sign_mnist_train.csv')\n",
        "test = pd.read_csv('/content/sign_mnist_test.csv')"
      ],
      "metadata": {
        "id": "R9vlY0N3yz48"
      },
      "execution_count": null,
      "outputs": []
    },
    {
      "cell_type": "code",
      "source": [
        "# Inspect our Training data\n",
        "train.head()"
      ],
      "metadata": {
        "colab": {
          "base_uri": "https://localhost:8080/",
          "height": 255
        },
        "id": "kfxmKTjN3WIM",
        "outputId": "95badea9-849c-46af-b2ed-4c25f6f71187"
      },
      "execution_count": null,
      "outputs": [
        {
          "output_type": "execute_result",
          "data": {
            "text/plain": [
              "   label  pixel1  pixel2  pixel3  pixel4  pixel5  pixel6  pixel7  pixel8  \\\n",
              "0      3     107     118     127     134     139     143     146     150   \n",
              "1      6     155     157     156     156     156     157     156     158   \n",
              "2      2     187     188     188     187     187     186     187     188   \n",
              "3      2     211     211     212     212     211     210     211     210   \n",
              "4     13     164     167     170     172     176     179     180     184   \n",
              "\n",
              "   pixel9  ...  pixel775  pixel776  pixel777  pixel778  pixel779  pixel780  \\\n",
              "0     153  ...       207       207       207       207       206       206   \n",
              "1     158  ...        69       149       128        87        94       163   \n",
              "2     187  ...       202       201       200       199       198       199   \n",
              "3     210  ...       235       234       233       231       230       226   \n",
              "4     185  ...        92       105       105       108       133       163   \n",
              "\n",
              "   pixel781  pixel782  pixel783  pixel784  \n",
              "0       206       204       203       202  \n",
              "1       175       103       135       149  \n",
              "2       198       195       194       195  \n",
              "3       225       222       229       163  \n",
              "4       157       163       164       179  \n",
              "\n",
              "[5 rows x 785 columns]"
            ],
            "text/html": [
              "\n",
              "  <div id=\"df-703d588c-1dce-4dc4-9df8-b3bb5100ed00\" class=\"colab-df-container\">\n",
              "    <div>\n",
              "<style scoped>\n",
              "    .dataframe tbody tr th:only-of-type {\n",
              "        vertical-align: middle;\n",
              "    }\n",
              "\n",
              "    .dataframe tbody tr th {\n",
              "        vertical-align: top;\n",
              "    }\n",
              "\n",
              "    .dataframe thead th {\n",
              "        text-align: right;\n",
              "    }\n",
              "</style>\n",
              "<table border=\"1\" class=\"dataframe\">\n",
              "  <thead>\n",
              "    <tr style=\"text-align: right;\">\n",
              "      <th></th>\n",
              "      <th>label</th>\n",
              "      <th>pixel1</th>\n",
              "      <th>pixel2</th>\n",
              "      <th>pixel3</th>\n",
              "      <th>pixel4</th>\n",
              "      <th>pixel5</th>\n",
              "      <th>pixel6</th>\n",
              "      <th>pixel7</th>\n",
              "      <th>pixel8</th>\n",
              "      <th>pixel9</th>\n",
              "      <th>...</th>\n",
              "      <th>pixel775</th>\n",
              "      <th>pixel776</th>\n",
              "      <th>pixel777</th>\n",
              "      <th>pixel778</th>\n",
              "      <th>pixel779</th>\n",
              "      <th>pixel780</th>\n",
              "      <th>pixel781</th>\n",
              "      <th>pixel782</th>\n",
              "      <th>pixel783</th>\n",
              "      <th>pixel784</th>\n",
              "    </tr>\n",
              "  </thead>\n",
              "  <tbody>\n",
              "    <tr>\n",
              "      <th>0</th>\n",
              "      <td>3</td>\n",
              "      <td>107</td>\n",
              "      <td>118</td>\n",
              "      <td>127</td>\n",
              "      <td>134</td>\n",
              "      <td>139</td>\n",
              "      <td>143</td>\n",
              "      <td>146</td>\n",
              "      <td>150</td>\n",
              "      <td>153</td>\n",
              "      <td>...</td>\n",
              "      <td>207</td>\n",
              "      <td>207</td>\n",
              "      <td>207</td>\n",
              "      <td>207</td>\n",
              "      <td>206</td>\n",
              "      <td>206</td>\n",
              "      <td>206</td>\n",
              "      <td>204</td>\n",
              "      <td>203</td>\n",
              "      <td>202</td>\n",
              "    </tr>\n",
              "    <tr>\n",
              "      <th>1</th>\n",
              "      <td>6</td>\n",
              "      <td>155</td>\n",
              "      <td>157</td>\n",
              "      <td>156</td>\n",
              "      <td>156</td>\n",
              "      <td>156</td>\n",
              "      <td>157</td>\n",
              "      <td>156</td>\n",
              "      <td>158</td>\n",
              "      <td>158</td>\n",
              "      <td>...</td>\n",
              "      <td>69</td>\n",
              "      <td>149</td>\n",
              "      <td>128</td>\n",
              "      <td>87</td>\n",
              "      <td>94</td>\n",
              "      <td>163</td>\n",
              "      <td>175</td>\n",
              "      <td>103</td>\n",
              "      <td>135</td>\n",
              "      <td>149</td>\n",
              "    </tr>\n",
              "    <tr>\n",
              "      <th>2</th>\n",
              "      <td>2</td>\n",
              "      <td>187</td>\n",
              "      <td>188</td>\n",
              "      <td>188</td>\n",
              "      <td>187</td>\n",
              "      <td>187</td>\n",
              "      <td>186</td>\n",
              "      <td>187</td>\n",
              "      <td>188</td>\n",
              "      <td>187</td>\n",
              "      <td>...</td>\n",
              "      <td>202</td>\n",
              "      <td>201</td>\n",
              "      <td>200</td>\n",
              "      <td>199</td>\n",
              "      <td>198</td>\n",
              "      <td>199</td>\n",
              "      <td>198</td>\n",
              "      <td>195</td>\n",
              "      <td>194</td>\n",
              "      <td>195</td>\n",
              "    </tr>\n",
              "    <tr>\n",
              "      <th>3</th>\n",
              "      <td>2</td>\n",
              "      <td>211</td>\n",
              "      <td>211</td>\n",
              "      <td>212</td>\n",
              "      <td>212</td>\n",
              "      <td>211</td>\n",
              "      <td>210</td>\n",
              "      <td>211</td>\n",
              "      <td>210</td>\n",
              "      <td>210</td>\n",
              "      <td>...</td>\n",
              "      <td>235</td>\n",
              "      <td>234</td>\n",
              "      <td>233</td>\n",
              "      <td>231</td>\n",
              "      <td>230</td>\n",
              "      <td>226</td>\n",
              "      <td>225</td>\n",
              "      <td>222</td>\n",
              "      <td>229</td>\n",
              "      <td>163</td>\n",
              "    </tr>\n",
              "    <tr>\n",
              "      <th>4</th>\n",
              "      <td>13</td>\n",
              "      <td>164</td>\n",
              "      <td>167</td>\n",
              "      <td>170</td>\n",
              "      <td>172</td>\n",
              "      <td>176</td>\n",
              "      <td>179</td>\n",
              "      <td>180</td>\n",
              "      <td>184</td>\n",
              "      <td>185</td>\n",
              "      <td>...</td>\n",
              "      <td>92</td>\n",
              "      <td>105</td>\n",
              "      <td>105</td>\n",
              "      <td>108</td>\n",
              "      <td>133</td>\n",
              "      <td>163</td>\n",
              "      <td>157</td>\n",
              "      <td>163</td>\n",
              "      <td>164</td>\n",
              "      <td>179</td>\n",
              "    </tr>\n",
              "  </tbody>\n",
              "</table>\n",
              "<p>5 rows × 785 columns</p>\n",
              "</div>\n",
              "    <div class=\"colab-df-buttons\">\n",
              "\n",
              "  <div class=\"colab-df-container\">\n",
              "    <button class=\"colab-df-convert\" onclick=\"convertToInteractive('df-703d588c-1dce-4dc4-9df8-b3bb5100ed00')\"\n",
              "            title=\"Convert this dataframe to an interactive table.\"\n",
              "            style=\"display:none;\">\n",
              "\n",
              "  <svg xmlns=\"http://www.w3.org/2000/svg\" height=\"24px\" viewBox=\"0 -960 960 960\">\n",
              "    <path d=\"M120-120v-720h720v720H120Zm60-500h600v-160H180v160Zm220 220h160v-160H400v160Zm0 220h160v-160H400v160ZM180-400h160v-160H180v160Zm440 0h160v-160H620v160ZM180-180h160v-160H180v160Zm440 0h160v-160H620v160Z\"/>\n",
              "  </svg>\n",
              "    </button>\n",
              "\n",
              "  <style>\n",
              "    .colab-df-container {\n",
              "      display:flex;\n",
              "      gap: 12px;\n",
              "    }\n",
              "\n",
              "    .colab-df-convert {\n",
              "      background-color: #E8F0FE;\n",
              "      border: none;\n",
              "      border-radius: 50%;\n",
              "      cursor: pointer;\n",
              "      display: none;\n",
              "      fill: #1967D2;\n",
              "      height: 32px;\n",
              "      padding: 0 0 0 0;\n",
              "      width: 32px;\n",
              "    }\n",
              "\n",
              "    .colab-df-convert:hover {\n",
              "      background-color: #E2EBFA;\n",
              "      box-shadow: 0px 1px 2px rgba(60, 64, 67, 0.3), 0px 1px 3px 1px rgba(60, 64, 67, 0.15);\n",
              "      fill: #174EA6;\n",
              "    }\n",
              "\n",
              "    .colab-df-buttons div {\n",
              "      margin-bottom: 4px;\n",
              "    }\n",
              "\n",
              "    [theme=dark] .colab-df-convert {\n",
              "      background-color: #3B4455;\n",
              "      fill: #D2E3FC;\n",
              "    }\n",
              "\n",
              "    [theme=dark] .colab-df-convert:hover {\n",
              "      background-color: #434B5C;\n",
              "      box-shadow: 0px 1px 3px 1px rgba(0, 0, 0, 0.15);\n",
              "      filter: drop-shadow(0px 1px 2px rgba(0, 0, 0, 0.3));\n",
              "      fill: #FFFFFF;\n",
              "    }\n",
              "  </style>\n",
              "\n",
              "    <script>\n",
              "      const buttonEl =\n",
              "        document.querySelector('#df-703d588c-1dce-4dc4-9df8-b3bb5100ed00 button.colab-df-convert');\n",
              "      buttonEl.style.display =\n",
              "        google.colab.kernel.accessAllowed ? 'block' : 'none';\n",
              "\n",
              "      async function convertToInteractive(key) {\n",
              "        const element = document.querySelector('#df-703d588c-1dce-4dc4-9df8-b3bb5100ed00');\n",
              "        const dataTable =\n",
              "          await google.colab.kernel.invokeFunction('convertToInteractive',\n",
              "                                                    [key], {});\n",
              "        if (!dataTable) return;\n",
              "\n",
              "        const docLinkHtml = 'Like what you see? Visit the ' +\n",
              "          '<a target=\"_blank\" href=https://colab.research.google.com/notebooks/data_table.ipynb>data table notebook</a>'\n",
              "          + ' to learn more about interactive tables.';\n",
              "        element.innerHTML = '';\n",
              "        dataTable['output_type'] = 'display_data';\n",
              "        await google.colab.output.renderOutput(dataTable, element);\n",
              "        const docLink = document.createElement('div');\n",
              "        docLink.innerHTML = docLinkHtml;\n",
              "        element.appendChild(docLink);\n",
              "      }\n",
              "    </script>\n",
              "  </div>\n",
              "\n",
              "\n",
              "<div id=\"df-a8bb726e-a519-460b-bc71-1d132a1f82c3\">\n",
              "  <button class=\"colab-df-quickchart\" onclick=\"quickchart('df-a8bb726e-a519-460b-bc71-1d132a1f82c3')\"\n",
              "            title=\"Suggest charts\"\n",
              "            style=\"display:none;\">\n",
              "\n",
              "<svg xmlns=\"http://www.w3.org/2000/svg\" height=\"24px\"viewBox=\"0 0 24 24\"\n",
              "     width=\"24px\">\n",
              "    <g>\n",
              "        <path d=\"M19 3H5c-1.1 0-2 .9-2 2v14c0 1.1.9 2 2 2h14c1.1 0 2-.9 2-2V5c0-1.1-.9-2-2-2zM9 17H7v-7h2v7zm4 0h-2V7h2v10zm4 0h-2v-4h2v4z\"/>\n",
              "    </g>\n",
              "</svg>\n",
              "  </button>\n",
              "\n",
              "<style>\n",
              "  .colab-df-quickchart {\n",
              "      --bg-color: #E8F0FE;\n",
              "      --fill-color: #1967D2;\n",
              "      --hover-bg-color: #E2EBFA;\n",
              "      --hover-fill-color: #174EA6;\n",
              "      --disabled-fill-color: #AAA;\n",
              "      --disabled-bg-color: #DDD;\n",
              "  }\n",
              "\n",
              "  [theme=dark] .colab-df-quickchart {\n",
              "      --bg-color: #3B4455;\n",
              "      --fill-color: #D2E3FC;\n",
              "      --hover-bg-color: #434B5C;\n",
              "      --hover-fill-color: #FFFFFF;\n",
              "      --disabled-bg-color: #3B4455;\n",
              "      --disabled-fill-color: #666;\n",
              "  }\n",
              "\n",
              "  .colab-df-quickchart {\n",
              "    background-color: var(--bg-color);\n",
              "    border: none;\n",
              "    border-radius: 50%;\n",
              "    cursor: pointer;\n",
              "    display: none;\n",
              "    fill: var(--fill-color);\n",
              "    height: 32px;\n",
              "    padding: 0;\n",
              "    width: 32px;\n",
              "  }\n",
              "\n",
              "  .colab-df-quickchart:hover {\n",
              "    background-color: var(--hover-bg-color);\n",
              "    box-shadow: 0 1px 2px rgba(60, 64, 67, 0.3), 0 1px 3px 1px rgba(60, 64, 67, 0.15);\n",
              "    fill: var(--button-hover-fill-color);\n",
              "  }\n",
              "\n",
              "  .colab-df-quickchart-complete:disabled,\n",
              "  .colab-df-quickchart-complete:disabled:hover {\n",
              "    background-color: var(--disabled-bg-color);\n",
              "    fill: var(--disabled-fill-color);\n",
              "    box-shadow: none;\n",
              "  }\n",
              "\n",
              "  .colab-df-spinner {\n",
              "    border: 2px solid var(--fill-color);\n",
              "    border-color: transparent;\n",
              "    border-bottom-color: var(--fill-color);\n",
              "    animation:\n",
              "      spin 1s steps(1) infinite;\n",
              "  }\n",
              "\n",
              "  @keyframes spin {\n",
              "    0% {\n",
              "      border-color: transparent;\n",
              "      border-bottom-color: var(--fill-color);\n",
              "      border-left-color: var(--fill-color);\n",
              "    }\n",
              "    20% {\n",
              "      border-color: transparent;\n",
              "      border-left-color: var(--fill-color);\n",
              "      border-top-color: var(--fill-color);\n",
              "    }\n",
              "    30% {\n",
              "      border-color: transparent;\n",
              "      border-left-color: var(--fill-color);\n",
              "      border-top-color: var(--fill-color);\n",
              "      border-right-color: var(--fill-color);\n",
              "    }\n",
              "    40% {\n",
              "      border-color: transparent;\n",
              "      border-right-color: var(--fill-color);\n",
              "      border-top-color: var(--fill-color);\n",
              "    }\n",
              "    60% {\n",
              "      border-color: transparent;\n",
              "      border-right-color: var(--fill-color);\n",
              "    }\n",
              "    80% {\n",
              "      border-color: transparent;\n",
              "      border-right-color: var(--fill-color);\n",
              "      border-bottom-color: var(--fill-color);\n",
              "    }\n",
              "    90% {\n",
              "      border-color: transparent;\n",
              "      border-bottom-color: var(--fill-color);\n",
              "    }\n",
              "  }\n",
              "</style>\n",
              "\n",
              "  <script>\n",
              "    async function quickchart(key) {\n",
              "      const quickchartButtonEl =\n",
              "        document.querySelector('#' + key + ' button');\n",
              "      quickchartButtonEl.disabled = true;  // To prevent multiple clicks.\n",
              "      quickchartButtonEl.classList.add('colab-df-spinner');\n",
              "      try {\n",
              "        const charts = await google.colab.kernel.invokeFunction(\n",
              "            'suggestCharts', [key], {});\n",
              "      } catch (error) {\n",
              "        console.error('Error during call to suggestCharts:', error);\n",
              "      }\n",
              "      quickchartButtonEl.classList.remove('colab-df-spinner');\n",
              "      quickchartButtonEl.classList.add('colab-df-quickchart-complete');\n",
              "    }\n",
              "    (() => {\n",
              "      let quickchartButtonEl =\n",
              "        document.querySelector('#df-a8bb726e-a519-460b-bc71-1d132a1f82c3 button');\n",
              "      quickchartButtonEl.style.display =\n",
              "        google.colab.kernel.accessAllowed ? 'block' : 'none';\n",
              "    })();\n",
              "  </script>\n",
              "</div>\n",
              "    </div>\n",
              "  </div>\n"
            ]
          },
          "metadata": {},
          "execution_count": 5
        }
      ]
    },
    {
      "cell_type": "code",
      "source": [
        "# Get our training labels\n",
        "labels = train['label'].values"
      ],
      "metadata": {
        "id": "2u5V4UsS3WL1"
      },
      "execution_count": null,
      "outputs": []
    },
    {
      "cell_type": "code",
      "source": [
        "# View the unique labels, 24 in total (no 9)\n",
        "unique_val = np.array(labels)\n",
        "np.unique(unique_val)"
      ],
      "metadata": {
        "colab": {
          "base_uri": "https://localhost:8080/"
        },
        "id": "qrG4edjP3WOj",
        "outputId": "cc0cc490-50a7-4f14-aca5-a7cba8576d8e"
      },
      "execution_count": null,
      "outputs": [
        {
          "output_type": "execute_result",
          "data": {
            "text/plain": [
              "array([ 0,  1,  2,  3,  4,  5,  6,  7,  8, 10, 11, 12, 13, 14, 15, 16, 17,\n",
              "       18, 19, 20, 21, 22, 23, 24])"
            ]
          },
          "metadata": {},
          "execution_count": 7
        }
      ]
    },
    {
      "cell_type": "code",
      "source": [
        "# Drop Training Labels from our training data so we can separate it\n",
        "train.drop('label', axis = 1, inplace = True)"
      ],
      "metadata": {
        "id": "f-LY3ItC3WRe"
      },
      "execution_count": null,
      "outputs": []
    },
    {
      "cell_type": "code",
      "source": [
        "# Extract the image data from each row in our csv, remember it's in a row of 784 columns\n",
        "images = train.values\n",
        "images = np.array([np.reshape(i, (28, 28)) for i in images])\n",
        "images = np.array([i.flatten() for i in images])"
      ],
      "metadata": {
        "id": "-bm_zDQy3WUc"
      },
      "execution_count": null,
      "outputs": []
    },
    {
      "cell_type": "code",
      "source": [
        "# hot one encode our labels\n",
        "from sklearn.preprocessing import LabelBinarizer\n",
        "\n",
        "label_binrizer = LabelBinarizer()\n",
        "labels = label_binrizer.fit_transform(labels)"
      ],
      "metadata": {
        "id": "0ZFP0Z8E3WXS"
      },
      "execution_count": null,
      "outputs": []
    },
    {
      "cell_type": "code",
      "source": [
        "# View our labels\n",
        "labels\n",
        "# len(labels[0])"
      ],
      "metadata": {
        "colab": {
          "base_uri": "https://localhost:8080/"
        },
        "id": "Ok0OofDF3Wam",
        "outputId": "a99d4837-b7cd-4a0c-8173-e2e2e5df93a9"
      },
      "execution_count": null,
      "outputs": [
        {
          "output_type": "execute_result",
          "data": {
            "text/plain": [
              "array([[0, 0, 0, ..., 0, 0, 0],\n",
              "       [0, 0, 0, ..., 0, 0, 0],\n",
              "       [0, 0, 1, ..., 0, 0, 0],\n",
              "       ...,\n",
              "       [0, 0, 0, ..., 0, 0, 0],\n",
              "       [0, 0, 0, ..., 0, 0, 0],\n",
              "       [0, 0, 0, ..., 0, 1, 0]])"
            ]
          },
          "metadata": {},
          "execution_count": 11
        }
      ]
    },
    {
      "cell_type": "code",
      "source": [
        "# Inspect an image\n",
        "index = 2\n",
        "print(labels[index])\n",
        "plt.imshow(images[index].reshape(28,28))"
      ],
      "metadata": {
        "colab": {
          "base_uri": "https://localhost:8080/",
          "height": 465
        },
        "id": "-H_vHUif3PjQ",
        "outputId": "0e5c3e6f-7805-4ff6-e881-3da1582b4899"
      },
      "execution_count": null,
      "outputs": [
        {
          "output_type": "stream",
          "name": "stdout",
          "text": [
            "[0 0 1 0 0 0 0 0 0 0 0 0 0 0 0 0 0 0 0 0 0 0 0 0]\n"
          ]
        },
        {
          "output_type": "execute_result",
          "data": {
            "text/plain": [
              "<matplotlib.image.AxesImage at 0x7c7ab8f46500>"
            ]
          },
          "metadata": {},
          "execution_count": 12
        },
        {
          "output_type": "display_data",
          "data": {
            "text/plain": [
              "<Figure size 640x480 with 1 Axes>"
            ],
            "image/png": "[encoded data removed]"
          },
          "metadata": {}
        }
      ]
    },
    {
      "cell_type": "code",
      "source": [
        "# Split our data into x_train, x_test, y_train and y_test\n",
        "from sklearn.model_selection import train_test_split\n",
        "\n",
        "x_train, x_test, y_train, y_test = train_test_split(images, labels, test_size = 0.3, random_state = 101)"
      ],
      "metadata": {
        "id": "yJVgNZhD3rLb"
      },
      "execution_count": null,
      "outputs": []
    },
    {
      "cell_type": "code",
      "source": [
        "# Start loading our tensorFlow modules and define our batch size etc\n",
        "from tensorflow.keras.models import Sequential\n",
        "from tensorflow.keras.layers import Dense, Conv2D, MaxPooling2D, Flatten, Dropout\n",
        "\n",
        "batch_size = 128\n",
        "num_classes = 24\n",
        "epochs = 15"
      ],
      "metadata": {
        "id": "kaZqD5GT3rOD"
      },
      "execution_count": null,
      "outputs": []
    },
    {
      "cell_type": "code",
      "source": [
        "# Scale our images\n",
        "x_train = x_train / 255\n",
        "x_test = x_test / 255"
      ],
      "metadata": {
        "id": "xXC3A9M53rQ5"
      },
      "execution_count": null,
      "outputs": []
    },
    {
      "cell_type": "code",
      "source": [
        "# Reshape them into the size required by TF and Keras\n",
        "x_train = x_train.reshape(x_train.shape[0], 28, 28, 1)\n",
        "x_test = x_test.reshape(x_test.shape[0], 28, 28, 1)\n",
        "\n",
        "plt.imshow(x_train[0].reshape(28,28))"
      ],
      "metadata": {
        "colab": {
          "base_uri": "https://localhost:8080/",
          "height": 447
        },
        "id": "cXI1Lgf631c2",
        "outputId": "f681a27f-7836-4f53-9f1e-cf720eafdfd1"
      },
      "execution_count": null,
      "outputs": [
        {
          "output_type": "execute_result",
          "data": {
            "text/plain": [
              "<matplotlib.image.AxesImage at 0x7c7a89ff1960>"
            ]
          },
          "metadata": {},
          "execution_count": 28
        },
        {
          "output_type": "display_data",
          "data": {
            "text/plain": [
              "<Figure size 640x480 with 1 Axes>"
            ],
            "image/png": "[encoded data removed]"
          },
          "metadata": {}
        }
      ]
    },
    {
      "cell_type": "code",
      "source": [
        "# Check for GPU availability and set it up\n",
        "physical_devices = tf.config.list_physical_devices('GPU')\n",
        "if physical_devices:\n",
        "    tf.config.experimental.set_memory_growth(physical_devices[0], True)\n",
        "    print(\"GPU is available\")"
      ],
      "metadata": {
        "colab": {
          "base_uri": "https://localhost:8080/"
        },
        "id": "ympCLVPw31fv",
        "outputId": "9bf3d9fc-e074-4456-c2e5-9ab13793d09c"
      },
      "execution_count": null,
      "outputs": [
        {
          "output_type": "stream",
          "name": "stdout",
          "text": [
            "GPU is available\n"
          ]
        }
      ]
    },
    {
      "cell_type": "code",
      "source": [
        "# Create our CNN Model\n",
        "from tensorflow.keras.layers import Conv2D, MaxPooling2D\n",
        "from tensorflow.keras import backend as K\n",
        "from tensorflow.keras.optimizers import Adam\n",
        "\n",
        "\n",
        "start_time_serial = time.time()\n",
        "\n",
        "\n",
        "model = Sequential()\n",
        "model.add(Conv2D(64, kernel_size=(3,3), activation = 'relu', input_shape=(28, 28 ,1) ))\n",
        "model.add(MaxPooling2D(pool_size = (2, 2)))\n",
        "\n",
        "model.add(Conv2D(64, kernel_size = (3, 3), activation = 'relu'))\n",
        "model.add(MaxPooling2D(pool_size = (2, 2)))\n",
        "\n",
        "model.add(Conv2D(64, kernel_size = (3, 3), activation = 'relu'))\n",
        "model.add(MaxPooling2D(pool_size = (2, 2)))\n",
        "\n",
        "model.add(Flatten())\n",
        "model.add(Dense(128, activation = 'relu'))\n",
        "model.add(Dropout(0.20))\n",
        "\n",
        "model.add(Dense(num_classes, activation = 'softmax'))"
      ],
      "metadata": {
        "id": "ps7Q_Mrf50oe"
      },
      "execution_count": null,
      "outputs": []
    },
    {
      "cell_type": "code",
      "source": [
        "# Compile our Model\n",
        "model.compile(loss = 'categorical_crossentropy',\n",
        "              optimizer= Adam(),\n",
        "              metrics=['accuracy'])"
      ],
      "metadata": {
        "id": "Xv2CuKY2502d"
      },
      "execution_count": null,
      "outputs": []
    },
    {
      "cell_type": "code",
      "source": [
        "# Train our Model\n",
        "history = model.fit(x_train, y_train, validation_data = (x_test, y_test), epochs=epochs, batch_size=batch_size)\n",
        "\n",
        "\n",
        "# Record end time for serial execution\n",
        "end_time_serial = time.time()\n",
        "\n",
        "# Calculate elapsed time for serial execution\n",
        "elapsed_time_serial = end_time_serial - start_time_serial\n",
        "print(f\"Time taken for serial execution: {elapsed_time_serial} seconds\")\n"
      ],
      "metadata": {
        "colab": {
          "base_uri": "https://localhost:8080/"
        },
        "id": "CeXldMmw505G",
        "outputId": "349f40b3-1205-42bf-a014-e59b0f44ca11"
      },
      "execution_count": null,
      "outputs": [
        {
          "output_type": "stream",
          "name": "stdout",
          "text": [
            "Epoch 1/15\n",
            "151/151 [==============================] - 3s 9ms/step - loss: 3.1772 - accuracy: 0.0429 - val_loss: 3.1762 - val_accuracy: 0.0418\n",
            "Epoch 2/15\n",
            "151/151 [==============================] - 1s 8ms/step - loss: 3.1762 - accuracy: 0.0444 - val_loss: 3.1761 - val_accuracy: 0.0418\n",
            "Epoch 3/15\n",
            "151/151 [==============================] - 1s 7ms/step - loss: 3.1761 - accuracy: 0.0464 - val_loss: 3.1761 - val_accuracy: 0.0418\n",
            "Epoch 4/15\n",
            "151/151 [==============================] - 1s 7ms/step - loss: 3.1760 - accuracy: 0.0457 - val_loss: 3.1761 - val_accuracy: 0.0418\n",
            "Epoch 5/15\n",
            "151/151 [==============================] - 1s 8ms/step - loss: 3.1758 - accuracy: 0.0457 - val_loss: 3.1760 - val_accuracy: 0.0418\n",
            "Epoch 6/15\n",
            "151/151 [==============================] - 1s 9ms/step - loss: 3.1759 - accuracy: 0.0445 - val_loss: 3.1761 - val_accuracy: 0.0418\n",
            "Epoch 7/15\n",
            "151/151 [==============================] - 1s 9ms/step - loss: 3.1759 - accuracy: 0.0456 - val_loss: 3.1761 - val_accuracy: 0.0418\n",
            "Epoch 8/15\n",
            "151/151 [==============================] - 1s 8ms/step - loss: 3.1758 - accuracy: 0.0455 - val_loss: 3.1761 - val_accuracy: 0.0418\n",
            "Epoch 9/15\n",
            "151/151 [==============================] - 1s 7ms/step - loss: 3.1757 - accuracy: 0.0453 - val_loss: 3.1760 - val_accuracy: 0.0418\n",
            "Epoch 10/15\n",
            "151/151 [==============================] - 1s 8ms/step - loss: 3.1757 - accuracy: 0.0442 - val_loss: 3.1761 - val_accuracy: 0.0418\n",
            "Epoch 11/15\n",
            "151/151 [==============================] - 1s 7ms/step - loss: 3.1757 - accuracy: 0.0458 - val_loss: 3.1760 - val_accuracy: 0.0418\n",
            "Epoch 12/15\n",
            "151/151 [==============================] - 1s 7ms/step - loss: 3.1758 - accuracy: 0.0456 - val_loss: 3.1760 - val_accuracy: 0.0418\n",
            "Epoch 13/15\n",
            "151/151 [==============================] - 1s 8ms/step - loss: 3.1757 - accuracy: 0.0454 - val_loss: 3.1760 - val_accuracy: 0.0418\n",
            "Epoch 14/15\n",
            "151/151 [==============================] - 1s 7ms/step - loss: 3.1758 - accuracy: 0.0459 - val_loss: 3.1759 - val_accuracy: 0.0488\n",
            "Epoch 15/15\n",
            "151/151 [==============================] - 1s 8ms/step - loss: 3.1759 - accuracy: 0.0464 - val_loss: 3.1760 - val_accuracy: 0.0488\n",
            "Time taken for serial execution: 27.730804443359375 seconds\n"
          ]
        }
      ]
    },
    {
      "cell_type": "code",
      "source": [
        "import cv2\n",
        "import tensorflow as tf\n",
        "\n",
        "# Load your trained model\n",
        "model = tf.keras.models.load_model('mymodel.keras')\n",
        "\n",
        "cap = cv2.VideoCapture(1)\n",
        "\n",
        "while True:\n",
        "    ret, frame = cap.read()\n",
        "\n",
        "    if not ret:  # Check if the frame was read successfully\n",
        "        print(\"Error reading frame\")\n",
        "        break\n",
        "\n",
        "    ##############################\n",
        "    frame = cv2.flip(frame, 1)\n",
        "\n",
        "    # Define region of interest\n",
        "    roi = frame[100:400, 320:620]\n",
        "    cv2.imshow('roi', roi)\n",
        "\n",
        "    if roi is not None:  # Check if roi is not None before processing\n",
        "        roi_gray = cv2.cvtColor(roi, cv2.COLOR_BGR2GRAY)\n",
        "        roi_resized = cv2.resize(roi_gray, (28, 28), interpolation=cv2.INTER_AREA)\n",
        "        cv2.imshow('roi scaled and gray', roi_resized)\n",
        "\n",
        "        copy = frame.copy()\n",
        "        cv2.rectangle(copy, (320, 100), (620, 400), (255, 0, 0), 5)\n",
        "\n",
        "        # Prepare the ROI for prediction\n",
        "        roi_input = roi_resized.reshape(1, 28, 28, 1)\n",
        "\n",
        "        # Make prediction using the loaded model\n",
        "        result = str(model.predict(roi_input).argmax())\n",
        "        cv2.putText(copy, result, (300, 100), cv2.FONT_HERSHEY_COMPLEX, 2, (0, 255, 0), 2)\n",
        "        cv2.imshow('frame', copy)\n",
        "\n",
        "    else:\n",
        "        print(\"ROI is None\")\n",
        "\n",
        "    if cv2.waitKey(1) == 13:  # 13 is the Enter Key\n",
        "        break\n",
        "\n",
        "cap.release()\n",
        "cv2.destroyAllWindows()\n"
      ],
      "metadata": {
        "colab": {
          "base_uri": "https://localhost:8080/"
        },
        "id": "DwjMIgLzfrtA",
        "outputId": "cd5834e3-5a3b-4919-82df-daad522289a1"
      },
      "execution_count": null,
      "outputs": [
        {
          "output_type": "stream",
          "name": "stdout",
          "text": [
            "Error reading frame\n"
          ]
        }
      ]
    },
    {
      "cell_type": "code",
      "source": [],
      "metadata": {
        "id": "SHixrjxZ508J"
      },
      "execution_count": null,
      "outputs": []
    },
    {
      "cell_type": "code",
      "source": [],
      "metadata": {
        "id": "VaVKjKaY50-l"
      },
      "execution_count": null,
      "outputs": []
    },
    {
      "cell_type": "code",
      "source": [],
      "metadata": {
        "id": "2rdTiH5S51Bg"
      },
      "execution_count": null,
      "outputs": []
    },
    {
      "cell_type": "code",
      "source": [],
      "metadata": {
        "id": "KPQfGil851EK"
      },
      "execution_count": null,
      "outputs": []
    },
    {
      "cell_type": "code",
      "source": [],
      "metadata": {
        "id": "zWudPm2l51G6"
      },
      "execution_count": null,
      "outputs": []
    },
    {
      "cell_type": "code",
      "source": [],
      "metadata": {
        "id": "jhcSm3gn51Jy"
      },
      "execution_count": null,
      "outputs": []
    },
    {
      "cell_type": "code",
      "source": [],
      "metadata": {
        "id": "O9pvX4RS51Mq"
      },
      "execution_count": null,
      "outputs": []
    },
    {
      "cell_type": "code",
      "source": [],
      "metadata": {
        "id": "VnbYQg5351PQ"
      },
      "execution_count": null,
      "outputs": []
    },
    {
      "cell_type": "code",
      "source": [],
      "metadata": {
        "id": "ZgZUtsgC51Sn"
      },
      "execution_count": null,
      "outputs": []
    },
    {
      "cell_type": "code",
      "source": [],
      "metadata": {
        "id": "B4-gdHNP51lp"
      },
      "execution_count": null,
      "outputs": []
    },
    {
      "cell_type": "code",
      "source": [
        "# Create function to match label to letter\n",
        "def getLetter(result):\n",
        "    classLabels = { 0: 'A',\n",
        "                    1: 'B',\n",
        "                    2: 'C',\n",
        "                    3: 'D',\n",
        "                    4: 'E',\n",
        "                    5: 'F',\n",
        "                    6: 'G',\n",
        "                    7: 'H',\n",
        "                    8: 'I',\n",
        "                    9: 'K',\n",
        "                    10: 'L',\n",
        "                    11: 'M',\n",
        "                    12: 'N',\n",
        "                    13: 'O',\n",
        "                    14: 'P',\n",
        "                    15: 'Q',\n",
        "                    16: 'R',\n",
        "                    17: 'S',\n",
        "                    18: 'T',\n",
        "                    19: 'U',\n",
        "                    20: 'V',\n",
        "                    21: 'W',\n",
        "                    22: 'X',\n",
        "                    23: 'Y'}\n",
        "    try:\n",
        "        res = int(result)\n",
        "        return classLabels[res]\n",
        "    except:\n",
        "        return \"Error\""
      ],
      "metadata": {
        "id": "4WckyN3H3PmU"
      },
      "execution_count": null,
      "outputs": []
    },
    {
      "cell_type": "code",
      "source": [
        "# Save our Model\n",
        "model.save(\"mymodel.keras\")\n",
        "print(\"Model Saved\")"
      ],
      "metadata": {
        "colab": {
          "base_uri": "https://localhost:8080/"
        },
        "id": "p7Trbm4QQXdl",
        "outputId": "4d1b94a5-10fb-447c-e83d-9d976732c22d"
      },
      "execution_count": null,
      "outputs": [
        {
          "output_type": "stream",
          "name": "stdout",
          "text": [
            "Model Saved\n"
          ]
        }
      ]
    },
    {
      "cell_type": "code",
      "source": [
        "# Create our CNN Model\n",
        "from tensorflow.keras.layers import Conv2D, MaxPooling2D\n",
        "from tensorflow.keras import backend as K\n",
        "from tensorflow.keras.optimizers import Adam\n",
        "\n",
        "with tf.device('/GPU:0'):  # This line assigns operations to GPU\n",
        "    model = Sequential()\n",
        "    model.add(Conv2D(64, kernel_size=(3,3), activation = 'relu', input_shape=(28, 28 ,1) ))\n",
        "    model.add(MaxPooling2D(pool_size = (2, 2)))\n",
        "\n",
        "    model.add(Conv2D(64, kernel_size = (3, 3), activation = 'relu'))\n",
        "    model.add(MaxPooling2D(pool_size = (2, 2)))\n",
        "\n",
        "    model.add(Conv2D(64, kernel_size = (3, 3), activation = 'relu'))\n",
        "    model.add(MaxPooling2D(pool_size = (2, 2)))\n",
        "\n",
        "    model.add(Flatten())\n",
        "    model.add(Dense(128, activation = 'relu'))\n",
        "    model.add(Dropout(0.20))\n",
        "\n",
        "    model.add(Dense(num_classes, activation = 'softmax'))\n",
        "\n",
        "\n",
        "\n",
        "    # Record start time\n",
        "start_time = time.time()\n",
        "\n",
        "\n",
        "   # Compile our Model\n",
        "model.compile(loss = 'categorical_crossentropy',\n",
        "              optimizer= Adam(),\n",
        "              metrics=['accuracy'])\n",
        "\n",
        "history = model.fit(x_train, y_train, validation_data=(x_test, y_test), epochs=epochs, batch_size=batch_size)\n",
        "\n",
        "\n",
        "# Record end time\n",
        "end_time = time.time()\n",
        "\n",
        "# Calculate elapsed time\n",
        "elapsed_time = end_time - start_time\n",
        "print(f\"Time taken for parallel execution: {elapsed_time} seconds\")\n",
        "\n",
        "\n"
      ],
      "metadata": {
        "colab": {
          "base_uri": "https://localhost:8080/"
        },
        "id": "oPo_N8Ad31l4",
        "outputId": "54f0b4c7-8fda-40d5-a847-74af9d3ecc98"
      },
      "execution_count": null,
      "outputs": [
        {
          "output_type": "stream",
          "name": "stdout",
          "text": [
            "Epoch 1/15\n",
            "151/151 [==============================] - 3s 13ms/step - loss: 3.1774 - accuracy: 0.0431 - val_loss: 3.1764 - val_accuracy: 0.0488\n",
            "Epoch 2/15\n",
            "151/151 [==============================] - 1s 9ms/step - loss: 3.1762 - accuracy: 0.0442 - val_loss: 3.1760 - val_accuracy: 0.0418\n",
            "Epoch 3/15\n",
            "151/151 [==============================] - 1s 10ms/step - loss: 3.1761 - accuracy: 0.0458 - val_loss: 3.1760 - val_accuracy: 0.0418\n",
            "Epoch 4/15\n",
            "151/151 [==============================] - 1s 10ms/step - loss: 3.1760 - accuracy: 0.0456 - val_loss: 3.1759 - val_accuracy: 0.0488\n",
            "Epoch 5/15\n",
            "151/151 [==============================] - 1s 9ms/step - loss: 3.1759 - accuracy: 0.0454 - val_loss: 3.1759 - val_accuracy: 0.0484\n",
            "Epoch 6/15\n",
            "151/151 [==============================] - 1s 8ms/step - loss: 3.1758 - accuracy: 0.0446 - val_loss: 3.1760 - val_accuracy: 0.0418\n",
            "Epoch 7/15\n",
            "151/151 [==============================] - 1s 8ms/step - loss: 3.1758 - accuracy: 0.0457 - val_loss: 3.1760 - val_accuracy: 0.0418\n",
            "Epoch 8/15\n",
            "151/151 [==============================] - 1s 8ms/step - loss: 3.1758 - accuracy: 0.0454 - val_loss: 3.1760 - val_accuracy: 0.0488\n",
            "Epoch 9/15\n",
            "151/151 [==============================] - 1s 8ms/step - loss: 3.1757 - accuracy: 0.0465 - val_loss: 3.1760 - val_accuracy: 0.0488\n",
            "Epoch 10/15\n",
            "151/151 [==============================] - 1s 8ms/step - loss: 3.1757 - accuracy: 0.0469 - val_loss: 3.1760 - val_accuracy: 0.0418\n",
            "Epoch 11/15\n",
            "151/151 [==============================] - 1s 8ms/step - loss: 3.1758 - accuracy: 0.0462 - val_loss: 3.1760 - val_accuracy: 0.0418\n",
            "Epoch 12/15\n",
            "151/151 [==============================] - 1s 9ms/step - loss: 3.1757 - accuracy: 0.0446 - val_loss: 3.1761 - val_accuracy: 0.0418\n",
            "Epoch 13/15\n",
            "151/151 [==============================] - 1s 10ms/step - loss: 3.1756 - accuracy: 0.0475 - val_loss: 3.1760 - val_accuracy: 0.0418\n",
            "Epoch 14/15\n",
            "151/151 [==============================] - 1s 10ms/step - loss: 3.1757 - accuracy: 0.0458 - val_loss: 3.1760 - val_accuracy: 0.0418\n",
            "Epoch 15/15\n",
            "151/151 [==============================] - 1s 9ms/step - loss: 3.1758 - accuracy: 0.0444 - val_loss: 3.1760 - val_accuracy: 0.0418\n",
            "Time taken for parallel execution: 22.124534606933594 seconds\n"
          ]
        }
      ]
    }
  ]
}